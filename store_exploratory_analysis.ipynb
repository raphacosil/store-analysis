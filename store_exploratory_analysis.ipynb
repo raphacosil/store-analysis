{
 "cells": [
  {
   "cell_type": "markdown",
   "metadata": {},
   "source": [
    "## 1. Imports"
   ]
  },
  {
   "cell_type": "code",
   "execution_count": null,
   "metadata": {},
   "outputs": [],
   "source": [
    "import pandas as pd\n",
    "import seaborn as sns\n",
    "import plotly.express as px\n",
    "import matplotlib.pyplot as plt"
   ]
  },
  {
   "cell_type": "markdown",
   "metadata": {},
   "source": [
    "## 2. Load and Preprocess"
   ]
  },
  {
   "cell_type": "code",
   "execution_count": null,
   "metadata": {},
   "outputs": [],
   "source": [
    "df_store = pd.read_excel(\"store_dataset.xlsx\")\n",
    "display(df_store.head(), df_store.tail())\n",
    "\n",
    "# Drop irrelevant columns\n",
    "\n",
    "df_base = df_store.drop(columns=[\n",
    "\"Order ID\", \"Row ID\", \"Product ID\",\n",
    "\"Postal Code\", \"Order Date\", \"Ship Date\"\n",
    "])\n",
    "display(df_base)"
   ]
  },
  {
   "cell_type": "markdown",
   "metadata": {},
   "source": [
    "## 3. Quantity Analysis"
   ]
  },
  {
   "cell_type": "code",
   "execution_count": null,
   "metadata": {},
   "outputs": [],
   "source": [
    "sns.histplot(df_base, x=\"Quantity\")\n",
    "\n",
    "sns.FacetGrid(df_base, col=\"Category\", col_wrap=3).map_dataframe(sns.histplot, x=\"Quantity\")\n",
    "sns.FacetGrid(df_base, col=\"Region\", col_wrap=4).map_dataframe(sns.histplot, x=\"Quantity\")\n",
    "sns.FacetGrid(df_base, col=\"Segment\", col_wrap=3).map_dataframe(sns.histplot, x=\"Quantity\")\n",
    "\n",
    "px.histogram(df_base, x=\"Quantity\", facet_col=\"Category\", color=\"Sub-Category\").show()"
   ]
  },
  {
   "cell_type": "markdown",
   "metadata": {},
   "source": [
    "## 4. Sales Analysis"
   ]
  },
  {
   "cell_type": "code",
   "execution_count": null,
   "metadata": {},
   "outputs": [],
   "source": [
    "sns.histplot(df_base, x=\"Sales\")\n",
    "\n",
    "sns.FacetGrid(df_base, col=\"Category\", col_wrap=3).map_dataframe(sns.histplot, x=\"Sales\")\n",
    "sns.FacetGrid(df_base, col=\"Region\", col_wrap=4).map_dataframe(sns.histplot, x=\"Sales\")\n",
    "sns.FacetGrid(df_base, col=\"Segment\", col_wrap=4).map_dataframe(sns.histplot, x=\"Sales\")\n",
    "sns.FacetGrid(df_base, col=\"Ship Mode\", col_wrap=4).map_dataframe(sns.histplot, x=\"Sales\")\n",
    "\n",
    "px.box(df_base, x=\"State\", y=\"Sales\", points=\"outliers\", color=\"State\", title=\"Sales by State\").show()\n",
    "px.box(df_base, x=\"Region\", y=\"Sales\", color=\"Segment\", title=\"Sales by Region\").show()\n",
    "px.box(df_base, x=\"Category\", y=\"Sales\", color=\"Sub-Category\", title=\"Sales by Category\").show()"
   ]
  },
  {
   "cell_type": "markdown",
   "metadata": {},
   "source": [
    "## 5. Discount Analysis"
   ]
  },
  {
   "cell_type": "code",
   "execution_count": null,
   "metadata": {},
   "outputs": [],
   "source": [
    "sns.histplot(df_base, x=\"Discount\")\n",
    "\n",
    "sns.FacetGrid(df_base, col=\"Category\", col_wrap=3).map_dataframe(sns.histplot, x=\"Discount\")\n",
    "sns.FacetGrid(df_base, col=\"Region\", col_wrap=4).map_dataframe(sns.histplot, x=\"Discount\")\n",
    "sns.FacetGrid(df_base, col=\"Segment\", col_wrap=3).map_dataframe(sns.histplot, x=\"Discount\")\n",
    "sns.FacetGrid(df_base, col=\"Ship Mode\", col_wrap=4).map_dataframe(sns.histplot, x=\"Discount\")"
   ]
  },
  {
   "cell_type": "markdown",
   "metadata": {},
   "source": [
    "## 6. Profit Analysis"
   ]
  },
  {
   "cell_type": "code",
   "execution_count": null,
   "metadata": {},
   "outputs": [],
   "source": [
    "px.box(df_base, x=\"Region\", y=\"Profit\", color=\"Segment\", title=\"Profit by Region and Segment\").show()\n",
    "px.box(df_base, x=\"Category\", y=\"Profit\", color=\"Sub-Category\", title=\"Profit by Category and Sub-Category\").show()\n",
    "px.box(df_base, x=\"State\", y=\"Profit\", color=\"Segment\", title=\"Profit by State\").show()"
   ]
  }
 ],
 "metadata": {
  "kernelspec": {
   "display_name": "Python 3",
   "language": "python",
   "name": "python3"
  },
  "language_info": {
   "codemirror_mode": {
    "name": "ipython",
    "version": 3
   },
   "file_extension": ".py",
   "mimetype": "text/x-python",
   "name": "python",
   "nbconvert_exporter": "python",
   "pygments_lexer": "ipython3",
   "version": "3.11.2"
  }
 },
 "nbformat": 4,
 "nbformat_minor": 2
}
