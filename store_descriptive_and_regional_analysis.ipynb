{
 "cells": [
  {
   "cell_type": "markdown",
   "id": "516a2a04",
   "metadata": {},
   "source": [
    "## 1. Imports"
   ]
  },
  {
   "cell_type": "code",
   "execution_count": null,
   "id": "795e56ce",
   "metadata": {},
   "outputs": [],
   "source": [
    "import pandas as pd\n",
    "import plotly.express as px"
   ]
  },
  {
   "cell_type": "markdown",
   "id": "07020dc6",
   "metadata": {},
   "source": [
    "## 2. Load and Prepare"
   ]
  },
  {
   "cell_type": "code",
   "execution_count": null,
   "id": "5e4ff9c4",
   "metadata": {},
   "outputs": [],
   "source": [
    "df = pd.read_excel(\"store_dataset.xlsx\")\n",
    "\n",
    "# Remove irrelevant columns\n",
    "\n",
    "cols_drop = [\"Row ID\", \"Product ID\", \"Postal Code\", \"Order Date\", \"Ship Date\"]\n",
    "df = df.drop(columns=cols_drop, errors=\"ignore\")"
   ]
  },
  {
   "cell_type": "markdown",
   "id": "33a519d8",
   "metadata": {},
   "source": [
    "## 3. Descriptive Statistics"
   ]
  },
  {
   "cell_type": "code",
   "execution_count": null,
   "id": "8ab92a92",
   "metadata": {},
   "outputs": [],
   "source": [
    "desc_segment = df.groupby(\"Segment\").describe().round(2)\n",
    "desc_category = df.groupby(\"Category\").describe().round(2)\n",
    "desc_subcat = df.groupby(\"Sub-Category\").describe().round(2)\n",
    "\n",
    "display(desc_segment, desc_category, desc_subcat)"
   ]
  },
  {
   "cell_type": "markdown",
   "id": "301d3c8b",
   "metadata": {},
   "source": [
    "## 4. Helper Function for Regional Boxplots"
   ]
  },
  {
   "cell_type": "code",
   "execution_count": null,
   "id": "0d950383",
   "metadata": {},
   "outputs": [],
   "source": [
    "def boxplots_by_region(df, region):\n",
    "    df_reg = df[df[\"Region\"] == region]\n",
    "\n",
    "    for var in [\"Sales\", \"Quantity\", \"Profit\"]:\n",
    "        fig = px.box(df_reg, x=\"Region\", y=var, color=\"Segment\",\n",
    "                     title=f\"{var} by Segment - Region {region}\")\n",
    "        fig.show()\n",
    "\n",
    "        fig = px.box(df_reg, x=\"Region\", y=var, color=\"Category\",\n",
    "                     title=f\"{var} by Category - Region {region}\")\n",
    "        fig.show()\n",
    "\n",
    "        fig = px.box(df_reg, x=\"Region\", y=var, color=\"Sub-Category\",\n",
    "                     title=f\"{var} by Sub-Category - Region {region}\")\n",
    "        fig.show()"
   ]
  },
  {
   "cell_type": "markdown",
   "id": "dc7296ab",
   "metadata": {},
   "source": [
    "## 5. Regional Boxplots"
   ]
  },
  {
   "cell_type": "code",
   "execution_count": null,
   "id": "1df8d3b9",
   "metadata": {},
   "outputs": [],
   "source": [
    "for region in df[\"Region\"].unique():\n",
    "    boxplots_by_region(df, region)"
   ]
  },
  {
   "cell_type": "markdown",
   "id": "000f2fa5",
   "metadata": {},
   "source": [
    "## 6. Profit by Sub-Category in Each Region"
   ]
  },
  {
   "cell_type": "code",
   "execution_count": null,
   "id": "e0346bac",
   "metadata": {},
   "outputs": [],
   "source": [
    "for region in df[\"Region\"].unique():\n",
    "    df_reg = df[df[\"Region\"] == region]\n",
    "    fig = px.histogram(df_reg, x=\"Sub-Category\", y=\"Profit\",\n",
    "                       title=f\"Profit by Sub-Category - Region {region}\")\n",
    "    fig.show()"
   ]
  },
  {
   "cell_type": "markdown",
   "id": "dab82b22",
   "metadata": {},
   "source": [
    "## 7. General Comparisons"
   ]
  },
  {
   "cell_type": "code",
   "execution_count": null,
   "id": "23998e0f",
   "metadata": {},
   "outputs": [],
   "source": [
    "# Total profit by region\n",
    "profit_by_region = df.groupby(\"Region\")[\"Profit\"].sum().reset_index()\n",
    "display(profit_by_region)\n",
    "\n",
    "fig = px.bar(profit_by_region, x=\"Region\", y=\"Profit\", title=\"Total Profit by Region\")\n",
    "fig.show()\n",
    "\n",
    "# Profit by segment in each region\n",
    "fig = px.histogram(df, x=\"Region\", y=\"Profit\", color=\"Segment\",\n",
    "                   title=\"Profit by Segment per Region\", barmode=\"group\")\n",
    "fig.show()"
   ]
  }
 ],
 "metadata": {
  "kernelspec": {
   "display_name": "Python 3",
   "language": "python",
   "name": "python3"
  },
  "language_info": {
   "codemirror_mode": {
    "name": "ipython",
    "version": 3
   },
   "file_extension": ".py",
   "mimetype": "text/x-python",
   "name": "python",
   "nbconvert_exporter": "python",
   "pygments_lexer": "ipython3",
   "version": "3.11.2"
  }
 },
 "nbformat": 4,
 "nbformat_minor": 5
}
